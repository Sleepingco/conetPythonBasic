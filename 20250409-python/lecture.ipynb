{
 "cells": [
  {
   "cell_type": "code",
   "execution_count": 284,
   "id": "acd74246",
   "metadata": {},
   "outputs": [
    {
     "name": "stdout",
     "output_type": "stream",
     "text": [
      "[[ 0  1  2  3  4]\n",
      " [ 5  6  7  8  9]\n",
      " [10 11 12 13 14]]\n",
      "(3, 5)\n",
      "int32\n",
      "4\n",
      "15\n",
      "[6 7 8]\n",
      "['1' 'two' '3' '4']\n",
      "float64\n",
      "4\n",
      "4\n"
     ]
    }
   ],
   "source": [
    "import numpy as np\n",
    "# 넘파이는 왜 성공했나\n",
    "# 배열 프로그래밍 기능 덕분에 ai에서 인기를 누림\n",
    "a = np.arange(15).reshape(3,5)\n",
    "print(a)\n",
    "print(a.shape) # 형태확인\n",
    "print(a.dtype.name) #자료형 확인\n",
    "print(a.itemsize)\n",
    "print(a.size) #크기 확인\n",
    "\n",
    "b = np.array([6,7,8])\n",
    "# b = np.array[6,7,8] 소괄호 없으면 에러남\n",
    "print(b)\n",
    "\n",
    "c = np.array([1,'two',3,4]) # 자료형 섞어서도 가능\n",
    "print(c)\n",
    "\n",
    "a = np.array([1.21,3.4,5.1]) # 다양한형태의 원소 가능\n",
    "print(a.dtype)\n",
    "\n",
    "# 리스트는 크기가 가변적이고 어떤 원소 타임도 저장할 수 있음 대신 연산시 메모리를 많이 사용함\n",
    "# 배열은 같은 타입의 원소만 저장함, 메모리를 훨씬 적게 씀\n",
    "a=[2,4,5]\n",
    "aa=np.array(a)\n",
    "print(a[1])\n",
    "print(aa[1])"
   ]
  },
  {
   "cell_type": "code",
   "execution_count": 285,
   "id": "5e0019c9",
   "metadata": {},
   "outputs": [
    {
     "name": "stdout",
     "output_type": "stream",
     "text": [
      "[0 1 2 3 4 5 6 7 8 9]\n",
      "5\n",
      "[5 6 7]\n",
      "[ 0  1  2  3  4 12 12 12  8  9]\n"
     ]
    }
   ],
   "source": [
    "import numpy as np\n",
    "\n",
    "arr = np.arange(10)\n",
    "print(arr)\n",
    "print(arr[5])\n",
    "print(arr[5:8])\n",
    "arr[5:8] =12\n",
    "print(arr)"
   ]
  },
  {
   "cell_type": "code",
   "execution_count": 286,
   "id": "1096a21b",
   "metadata": {},
   "outputs": [
    {
     "data": {
      "text/plain": [
       "array([ 0,  1,  2,  3,  4, 64, 64, 64,  8,  9])"
      ]
     },
     "execution_count": 286,
     "metadata": {},
     "output_type": "execute_result"
    }
   ],
   "source": [
    "import numpy as np\n",
    "\n",
    "arr_slice = arr[5:8]\n",
    "arr_slice\n",
    "arr_slice[1] = 12345\n",
    "arr_slice\n",
    "# arr_slice[:] =64 # 처음 부터 끝까지\n",
    "arr_slice[:] =64 # 처음 부터 끝까지 5에서 7인덱스까지\n",
    "arr"
   ]
  },
  {
   "cell_type": "code",
   "execution_count": 287,
   "id": "0a68cdfa",
   "metadata": {},
   "outputs": [
    {
     "name": "stdout",
     "output_type": "stream",
     "text": [
      "[ 0  1  2  3  4 64 64 64  8  9]\n"
     ]
    }
   ],
   "source": [
    "arr_slice_copy = arr[5:8].copy() # 하드 copy\n",
    "arr_slice_copy\n",
    "arr\n",
    "arr_slice_copy[:] = 8 # 배열 슬라이스에서 기억해야하는 부분 [시작:끝]\n",
    "arr_slice_copy\n",
    "print(arr)"
   ]
  },
  {
   "cell_type": "code",
   "execution_count": 288,
   "id": "1ace5cc2",
   "metadata": {},
   "outputs": [
    {
     "data": {
      "text/plain": [
       "array([[1., 0., 0.],\n",
       "       [0., 1., 0.],\n",
       "       [0., 0., 1.]])"
      ]
     },
     "execution_count": 288,
     "metadata": {},
     "output_type": "execute_result"
    }
   ],
   "source": [
    "# 튜플\n",
    "# zeros(), ones(), arange(), eye()\n",
    "a2 = np.zeros(3) # 배열의 초기화 가능 이미지처리에서 흑색이 들어오면 0으로 초기화\n",
    "a3 = np.ones(3) # 1로 초기화\n",
    "a4 = np.arange(1,7,1) # 1부터 7미만까지 배열 생성 조건이 있는 배열 만들기\n",
    "k1 = np.eye(3)\n",
    "k1"
   ]
  },
  {
   "cell_type": "code",
   "execution_count": 289,
   "id": "cd0299cc",
   "metadata": {},
   "outputs": [
    {
     "data": {
      "text/plain": [
       "array([[3, 3],\n",
       "       [3, 3]])"
      ]
     },
     "execution_count": 289,
     "metadata": {},
     "output_type": "execute_result"
    }
   ],
   "source": [
    "# c = np.arange(1,5)\n",
    "c = np.array([1,2,3,4])\n",
    "c\n",
    "c.shape= (2,2) # 2행2열 형태변환\n",
    "c\n",
    "c.shape=(4,) # 1행 4열 형태변환\n",
    "c\n",
    "c = np.full((2,2),3) # 특정 형태 배열을 특정 값 채우기\n",
    "c"
   ]
  },
  {
   "cell_type": "code",
   "execution_count": 290,
   "id": "a8b1e08e",
   "metadata": {},
   "outputs": [
    {
     "data": {
      "text/plain": [
       "array([[1, 2, 3, 4],\n",
       "       [5, 6, 7, 8]])"
      ]
     },
     "execution_count": 290,
     "metadata": {},
     "output_type": "execute_result"
    }
   ],
   "source": [
    "na = np.arange(1,9)\n",
    "na.reshape(2,4)"
   ]
  },
  {
   "cell_type": "code",
   "execution_count": 291,
   "id": "2bc2d58a",
   "metadata": {},
   "outputs": [
    {
     "data": {
      "text/plain": [
       "6"
      ]
     },
     "execution_count": 291,
     "metadata": {},
     "output_type": "execute_result"
    }
   ],
   "source": [
    "a = na.reshape(2,4)\n",
    "a[1,1]\n",
    "a[1][1]"
   ]
  },
  {
   "cell_type": "code",
   "execution_count": 292,
   "id": "e495641d",
   "metadata": {},
   "outputs": [
    {
     "data": {
      "text/plain": [
       "array([[0.04273481, 0.63397652],\n",
       "       [0.42778546, 0.48295428]])"
      ]
     },
     "execution_count": 292,
     "metadata": {},
     "output_type": "execute_result"
    }
   ],
   "source": [
    "k =  np.random.random((2,2))\n",
    "k"
   ]
  },
  {
   "cell_type": "code",
   "execution_count": 293,
   "id": "a573e409",
   "metadata": {},
   "outputs": [
    {
     "data": {
      "text/plain": [
       "6"
      ]
     },
     "execution_count": 293,
     "metadata": {},
     "output_type": "execute_result"
    }
   ],
   "source": [
    "array = np.array([\n",
    "    [[0,1,2,3],\n",
    "    [4,5,6,7],\n",
    "    [8,9,10,11]],\n",
    "    [[0,1,2,3],\n",
    "     [4,5,6,7],\n",
    "     [8,9,10,11]]\n",
    "])\n",
    "array\n",
    "# array = np.arange(1,25).reshape((2,3,4)) 자동으로 만드는법\n",
    "# array\n",
    "array.shape\n",
    "array[1,1,2]"
   ]
  },
  {
   "cell_type": "code",
   "execution_count": 294,
   "id": "a803fe62",
   "metadata": {},
   "outputs": [
    {
     "name": "stdout",
     "output_type": "stream",
     "text": [
      "[[ 6.  8.]\n",
      " [10. 12.]]  /\n",
      "[[ 6.  8.]\n",
      " [10. 12.]]  /\n",
      "[[-4. -4.]\n",
      " [-4. -4.]]  /\n",
      "[[-4. -4.]\n",
      " [-4. -4.]]  /\n",
      "[[ 5. 12.]\n",
      " [21. 32.]]  /\n",
      "[[ 5. 12.]\n",
      " [21. 32.]]  /\n",
      "[[0.2        0.33333333]\n",
      " [0.42857143 0.5       ]]  /\n",
      "[[0.2        0.33333333]\n",
      " [0.42857143 0.5       ]]  /\n",
      "[[1.         1.41421356]\n",
      " [1.73205081 2.        ]]\n"
     ]
    }
   ],
   "source": [
    "# 행렬 연산\n",
    "# 같은 모양의 행렬만 가능 shape 이 다르면 안됨\n",
    "x = np.array([[1,2],[3,4]], dtype=np.float64)\n",
    "y = np.array([[5,6],[7,8]], dtype=np.float64)\n",
    "print(x+y,\" /\")\n",
    "print(np.add(x,y),\" /\")\n",
    "print(x-y,\" /\")\n",
    "print(np.subtract(x,y),\" /\")\n",
    "print(x*y,\" /\")\n",
    "print(np.multiply(x,y),\" /\")\n",
    "print(x/y,\" /\")\n",
    "print(np.divide(x,y),\" /\")\n",
    "print(np.sqrt(x))\n",
    "# 수학에서의 완전 행렬 연산과는 다름 동일 위치에서의 곱셈"
   ]
  },
  {
   "cell_type": "code",
   "execution_count": 295,
   "id": "99042c2c",
   "metadata": {},
   "outputs": [
    {
     "name": "stdout",
     "output_type": "stream",
     "text": [
      "219\n",
      "[29 67]\n",
      "[[19 22]\n",
      " [43 50]]\n",
      "[[19 22]\n",
      " [43 50]]\n",
      "[[19 22]\n",
      " [43 50]]\n"
     ]
    }
   ],
   "source": [
    "import numpy as np\n",
    "\n",
    "x = np.array([[1,2],[3,4]])\n",
    "y = np.array([[5,6],[7,8]])\n",
    "\n",
    "v = np.array([9,10])\n",
    "w = np.array([11,12])\n",
    "\n",
    "print(v.dot(w))\n",
    "print(np.dot(x,v))\n",
    "\n",
    "print(x.dot(y))\n",
    "print(np.dot(x,y))\n",
    "\n",
    "print(x@y)"
   ]
  },
  {
   "cell_type": "code",
   "execution_count": 296,
   "id": "91e310e0",
   "metadata": {},
   "outputs": [
    {
     "data": {
      "text/plain": [
       "[1, 2, 3, 3, 4, 5]"
      ]
     },
     "execution_count": 296,
     "metadata": {},
     "output_type": "execute_result"
    }
   ],
   "source": [
    "a = [1,2,3]\n",
    "b = [3,4,5]\n",
    "type(a) #list\n",
    "2*a # a 두번 반복\n",
    "\n",
    "a+b # 두 리스트 합쳐짐\n"
   ]
  },
  {
   "cell_type": "code",
   "execution_count": 297,
   "id": "c83cb63e",
   "metadata": {},
   "outputs": [
    {
     "data": {
      "text/plain": [
       "array([4, 6, 8])"
      ]
     },
     "execution_count": 297,
     "metadata": {},
     "output_type": "execute_result"
    }
   ],
   "source": [
    "import numpy as np\n",
    "a = np.array([1,2,3])\n",
    "b = np.array([3,4,5])\n",
    "type(a) #nbarray\n",
    "2*a # 각요소를 2 곱함\n",
    "a+b # 각 요소를 더함"
   ]
  },
  {
   "cell_type": "code",
   "execution_count": 298,
   "id": "4ff6df19",
   "metadata": {},
   "outputs": [
    {
     "data": {
      "text/plain": [
       "array([1. , 1.6, 2.2, 2.8, 3.4, 4. ])"
      ]
     },
     "execution_count": 298,
     "metadata": {},
     "output_type": "execute_result"
    }
   ],
   "source": [
    "c = np.array([[1,2,3],\n",
    "              [4,5,6]])\n",
    "c\n",
    "c.size # a의 원소갯수\n",
    "c.shape # a의 형태\n",
    "np.arange(10).reshape(2,5)\n",
    "np.arange(2,3,0.1) # 2에서3까지 0.1씩 증가\n",
    "np.linspace(1.0,4.0,6) # 1.0에서 4.0까지 등간격 6원소 배열 생성"
   ]
  },
  {
   "cell_type": "code",
   "execution_count": 299,
   "id": "af42bf86",
   "metadata": {},
   "outputs": [],
   "source": [
    "import numpy as np\n",
    "\"\"\"\n",
    "    다양한 배열 초기화\n",
    "\"\"\"\n",
    "a =  np.zeros((2,2),int)\n",
    "b =  np.zeros((2,2),float)\n",
    "c =  np.ones((2,2))\n",
    "d =  np.full((2,2),7)\n",
    "e =  np.eye(2) # 단위행렬 identity matrix\n",
    "f = np.random.random((2,2))"
   ]
  },
  {
   "cell_type": "code",
   "execution_count": 300,
   "id": "43473fae",
   "metadata": {},
   "outputs": [
    {
     "data": {
      "text/plain": [
       "array([ 1,  6, 11])"
      ]
     },
     "execution_count": 300,
     "metadata": {},
     "output_type": "execute_result"
    }
   ],
   "source": [
    "a = np.array([\n",
    "    [1,2,3,4],\n",
    "    [5,6,7,8],\n",
    "    [9,10,11,12]\n",
    "    ])\n",
    "a[0, 0]       \n",
    "# → 1\n",
    "# 첫 번째 행, 첫 번째 열의 원소\n",
    "\n",
    "a[0][0]       \n",
    "# → 1\n",
    "# 위와 같음 (비추 방식)\n",
    "\n",
    "a[(0, 0)]     \n",
    "# → 1\n",
    "# 튜플로 지정한 것도 같음\n",
    "\n",
    "a[1, 2]       \n",
    "# → 7\n",
    "# 두 번째 행, 세 번째 열\n",
    "\n",
    "a[-1, -1] += 10  \n",
    "# → a는 다음과 같이 바뀜:\n",
    "# [[ 1  2  3  4]\n",
    "#  [ 5  6  7  8]\n",
    "#  [ 9 10 11 22]]\n",
    "# 마지막 행, 마지막 열(12)에 10 더함 → 22\n",
    "\n",
    "a[1, :]       \n",
    "# → [5 6 7 8]\n",
    "# 두 번째 행 전체\n",
    "\n",
    "a[:, 1]       \n",
    "# → [ 2  6 10]\n",
    "# 모든 행의 두 번째 열\n",
    "\n",
    "a[:2, :]      \n",
    "# → [[1 2 3 4]\n",
    "#     [5 6 7 8]]\n",
    "# 0행, 1행 가져오기 (2미만)\n",
    "\n",
    "a[:2, 1:3]    \n",
    "# → [[2 3]\n",
    "#     [6 7]]\n",
    "# 0~1행, 열은 1~2번만\n",
    "\n",
    "a[:, 0:3:2]   \n",
    "# → [[ 1  3]\n",
    "#     [ 5  7]\n",
    "#     [ 9 11]]\n",
    "# 모든 행, 열은 0, 2번만 (2칸씩 띄기)\n",
    "\n",
    "a[:, -1:-4:-2]\n",
    "# → [[ 4  2]\n",
    "#     [ 8  6]\n",
    "#     [22 10]]\n",
    "# 모든 행, 마지막 열부터 거꾸로 -2 간격으로: 열 -1, -3 (즉 열 3,1)\n",
    "\n",
    "a[:, [3, 0, 2, 1]]  \n",
    "# → [[ 4  1  3  2]\n",
    "#     [ 8  5  7  6]\n",
    "#     [22  9 11 10]]\n",
    "# 열 순서만 섞어서 추출\n",
    "\n",
    "a[[0,1,2],[0,1,2]]  \n",
    "# → [ 1  6 11]\n",
    "# (0,0), (1,1), (2,2) 위치의 값들 = 대각선 요소\n",
    "\n",
    "# a[row, column] 형태가 NumPy에서는 가장 일반적이야\n",
    "\n",
    "# :는 “전체”, start:end:step는 파이썬 슬라이싱 규칙!\n",
    "\n",
    "# -1은 항상 “마지막 원소”를 의미해 (뒤에서부터 세기\n"
   ]
  },
  {
   "cell_type": "code",
   "execution_count": 301,
   "id": "69c7b0c2",
   "metadata": {},
   "outputs": [
    {
     "data": {
      "text/plain": [
       "array([ 2,  4,  6,  8, 10, 22])"
      ]
     },
     "execution_count": 301,
     "metadata": {},
     "output_type": "execute_result"
    }
   ],
   "source": [
    "a\n",
    "a >5\n",
    "a[a>5]\n",
    "\n",
    "b=a[:] # copy\n",
    "b[b%2 == 0]"
   ]
  },
  {
   "cell_type": "code",
   "execution_count": 302,
   "id": "53a9021b",
   "metadata": {},
   "outputs": [
    {
     "data": {
      "text/plain": [
       "array([[0.09090909, 0.16666667, 0.23076923],\n",
       "       [0.28571429, 0.33333333, 0.375     ]])"
      ]
     },
     "execution_count": 302,
     "metadata": {},
     "output_type": "execute_result"
    }
   ],
   "source": [
    "c = np.array([[1,2,3],[4,5,6]])\n",
    "d = np.arange(11,17).reshape(2,3)\n",
    "# 동일한 shape 끼리만 사칙 연산이 가능하다\n",
    "c + d\n",
    "c - d\n",
    "c * d\n",
    "c / d"
   ]
  },
  {
   "cell_type": "code",
   "execution_count": 303,
   "id": "4bd89078",
   "metadata": {},
   "outputs": [
    {
     "data": {
      "text/plain": [
       "array([[ 67,  72,  77],\n",
       "       [ 92,  99, 106],\n",
       "       [117, 126, 135]])"
      ]
     },
     "execution_count": 303,
     "metadata": {},
     "output_type": "execute_result"
    }
   ],
   "source": [
    "c ** 2\n",
    "np.sqrt(c)\n",
    "np.dot(c,d.transpose())\n",
    "np.dot(c.T,d)"
   ]
  },
  {
   "cell_type": "code",
   "execution_count": 304,
   "id": "b83786df",
   "metadata": {},
   "outputs": [
    {
     "data": {
      "text/plain": [
       "5.233600000000001"
      ]
     },
     "execution_count": 304,
     "metadata": {},
     "output_type": "execute_result"
    }
   ],
   "source": [
    "array.mean() # 평균\n",
    "array.sum() # 합계\n",
    "array.max() # 최댓값\n",
    "array.min() # 최솟값\n",
    "array.var() # 분산\n",
    "array.std() # 표준편차 데이터셋의 분산이 너무 크면 표준편차를 맞춰야함\n",
    "\n",
    "list1 = [3,5.6,5,8,9.5]\n",
    "array = np.array(list1)\n",
    "array.var()"
   ]
  },
  {
   "cell_type": "code",
   "execution_count": 305,
   "id": "37bca9d7",
   "metadata": {},
   "outputs": [
    {
     "name": "stdout",
     "output_type": "stream",
     "text": [
      "자료형 int32\n",
      "자료형 <U2\n",
      "자료형 float64\n"
     ]
    }
   ],
   "source": [
    "ar = np.array([1,2,3])\n",
    "print('자료형', ar.dtype)\n",
    "ar = np.array(['12','2','3'])\n",
    "print('자료형', ar.dtype)\n",
    "ar = np.array([1.2,2.2,3.3])\n",
    "print('자료형', ar.dtype)"
   ]
  },
  {
   "cell_type": "code",
   "execution_count": 306,
   "id": "691db0d0",
   "metadata": {},
   "outputs": [
    {
     "name": "stdout",
     "output_type": "stream",
     "text": [
      "['1' '2' '3' '4']\n",
      "자료형 <U11\n"
     ]
    }
   ],
   "source": [
    "ar = np.array([1,2,3,'4'])\n",
    "print(ar)\n",
    "print('자료형', ar.dtype)\n"
   ]
  },
  {
   "cell_type": "code",
   "execution_count": 307,
   "id": "7814659f",
   "metadata": {},
   "outputs": [
    {
     "name": "stdout",
     "output_type": "stream",
     "text": [
      "[0 1 0 0]\n",
      "자료형 type: int32\n",
      "1\n",
      "1\n"
     ]
    }
   ],
   "source": [
    "ar = np.array([False,True,False,False], dtype=np.int32)\n",
    "print(ar)\n",
    "print('자료형 type:',ar.dtype)\n",
    "print(np.argmax(ar))\n",
    "from numpy import argmax\n",
    "print(argmax(ar))"
   ]
  },
  {
   "cell_type": "code",
   "execution_count": 311,
   "id": "d76a21e5",
   "metadata": {},
   "outputs": [
    {
     "name": "stdout",
     "output_type": "stream",
     "text": [
      "[[15 16 17]\n",
      " [18 19 20]\n",
      " [21 22 23]]\n",
      "[False False False False]\n",
      "53.333333333333336\n",
      "35.19785346990479\n",
      "[[ 6.  40.  18. ]\n",
      " [31.2 10.  36. ]\n",
      " [16.2  9.  19.8]]\n",
      "58.400000000000006\n",
      "58.400000000000006\n"
     ]
    }
   ],
   "source": [
    "# 실습 문제\n",
    "# 1번 : 15에서 23까지 배열 선언후 3*3으로 만들어라\n",
    "arr = np.arange(15,24)\n",
    "arr.shape = (3,3)\n",
    "print(arr)\n",
    "# 2번 : 다음의 두 배열을 만들고 두 배열을 이용해서 다음 같은 값이 나오게 [Fasle,False,False,False]\n",
    "arr1 = np.arange(1,5)\n",
    "arr2 = np.arange(5,9)\n",
    "print(arr1>arr2)\n",
    "\n",
    "# 3번: 아래와 같이 3학생의 중간,기말,과제 점수가 있다 각 점수에 가중치(0.4,0.4,0.2)를 주고 기타 점수 5점을 준다 그리고 다음과 같은 조건을 출력(1.중간고사 평균 표준편차,2.1번 학생의 최종점수)\n",
    "mid = np.array([15,100,45])\n",
    "final =  np.array([78,25,90])\n",
    "task = np.array([81,45,99])\n",
    "all = np.array([mid,final,task], dtype=np.float64)\n",
    "print(mid.mean())\n",
    "print(mid.std())\n",
    "all[0,:] *=0.4\n",
    "all[1,:] *=0.4\n",
    "all[2,:] *=0.2\n",
    "all[:]\n",
    "print(all)\n",
    "\n",
    "\n",
    "print(all[:,0].sum() + 5)\n",
    "\n",
    "# 강사님 답안\n",
    "weight = np.array([0.4,0.4,0.2])\n",
    "sum = mid * weight[0] + final * weight[1]+task*weight[2]+5\n",
    "no1_sum = sum[0]\n",
    "print(no1_sum)\n"
   ]
  },
  {
   "cell_type": "code",
   "execution_count": 309,
   "id": "7e075f3d",
   "metadata": {},
   "outputs": [
    {
     "name": "stdout",
     "output_type": "stream",
     "text": [
      "[[ 1  9  9]\n",
      " [10  3  3]\n",
      " [ 3  1 10]]\n",
      "19\n",
      "16\n",
      "14\n",
      "6.333333333333333\n",
      "5.333333333333333\n",
      "4.666666666666667\n",
      "[[ 1.  9.  9.]\n",
      " [10.  3.  3.]\n",
      " [ 3.  1. 10.]]\n",
      "[[ 1.  0.  0.]\n",
      " [ 0.  3.  0.]\n",
      " [ 0.  0. 10.]]\n"
     ]
    }
   ],
   "source": [
    "arr = np.arange(10,31) *2\n",
    "\n",
    "arr = np.arange(16)\n",
    "arr.reshape(4,4)\n",
    "\n",
    "arr = np.arange(1,21)\n",
    "arr2 = arr[arr%2==0] # 자주씀\n",
    "arr2\n",
    "\n",
    "# randit 무작위로 추출하지만 int로 추출\n",
    "# axis = 1 행 axis=0열\n",
    "# axis=0 → 행 방향으로 더함 → 각 열의 합\n",
    "# axis=1 → 열 방향으로 더함 → 각 행의 합\n",
    "arr = np.random.randint(1, 11, size=(3, 3)) \n",
    "print(arr)\n",
    "print(arr[0].sum())\n",
    "print(arr[1].sum())\n",
    "print(arr[2].sum())\n",
    "print(arr[0].mean())\n",
    "print(arr[1].mean())\n",
    "print(arr[2].mean())\n",
    "row_sum = arr.sum(axis =0)\n",
    "col_sum = arr.sum(axis =1)\n",
    "\n",
    "arr1 = np.eye(3)\n",
    "arr2 = np.eye(3)\n",
    "print(arr1@arr)\n",
    "print(arr1*arr)\n"
   ]
  },
  {
   "cell_type": "code",
   "execution_count": null,
   "id": "339e2797",
   "metadata": {},
   "outputs": [
    {
     "name": "stdout",
     "output_type": "stream",
     "text": [
      "[ 0.  1.  2.  3.  4.  5.  6.  7.  8.  9. 10. 11. 12. 13. 14. 15. 16. 17.\n",
      " 18. 19. 20. 21. 22. 23. 24. 25.]\n",
      "[0.   0.04 0.08 0.12 0.16 0.2  0.24 0.28 0.32 0.36 0.4  0.44 0.48 0.52\n",
      " 0.56 0.6  0.64 0.68 0.72 0.76 0.8  0.84 0.88 0.92 0.96 1.  ]\n",
      "[ 1.25892541  1.40400425  1.565802    1.74624535  1.94748304  2.1719114\n",
      "  2.42220294  2.70133812  3.0126409   3.35981829  3.74700446  4.17881006\n",
      "  4.66037703  5.19743987  5.79639395  6.46437163  7.2093272   8.04013161\n",
      "  8.9666781  10.        ]\n"
     ]
    },
    {
     "data": {
      "image/png": "[encoded data removed]",
      "text/plain": [
       "<Figure size 640x480 with 1 Axes>"
      ]
     },
     "metadata": {},
     "output_type": "display_data"
    }
   ],
   "source": [
    "import numpy as np\n",
    "import matplotlib.pyplot as plt\n",
    "\n",
    "# 1부터 25까지의 숫자로 이루어진 배열\n",
    "# 배열의 각값을 0과 1 사이로 정규화(normalization)\n",
    "# 정규화란 주로 0에서 1사이의 범위로 데이터를 변환하는 작업\n",
    "# 정규화 공식: (x-min)/(max-min)\n",
    "arr =  np.arange(26,dtype=np.float64)\n",
    "print(arr)\n",
    "for i in range(len(arr)):\n",
    "    min = arr.min()\n",
    "    max = arr.max()\n",
    "    arr[i] = (arr[i]-min)/(max-min)\n",
    "print(arr)\n",
    "plt.plot(arr,\"o\")\n",
    "plt.show()"
   ]
  },
  {
   "cell_type": "code",
   "execution_count": null,
   "id": "e430835d",
   "metadata": {},
   "outputs": [
    {
     "name": "stdout",
     "output_type": "stream",
     "text": [
      "48 35 40.0\n"
     ]
    },
    {
     "data": {
      "image/png": "[encoded data removed]",
      "text/plain": [
       "<Figure size 640x480 with 1 Axes>"
      ]
     },
     "metadata": {},
     "output_type": "display_data"
    },
    {
     "ename": "ValueError",
     "evalue": "num must be an integer with 1 <= num <= 2, not 3",
     "output_type": "error",
     "traceback": [
      "\u001b[1;31m---------------------------------------------------------------------------\u001b[0m",
      "\u001b[1;31mValueError\u001b[0m                                Traceback (most recent call last)",
      "Cell \u001b[1;32mIn[358], line 15\u001b[0m\n\u001b[0;32m     12\u001b[0m plt\u001b[38;5;241m.\u001b[39mshow()\n\u001b[0;32m     14\u001b[0m plt\u001b[38;5;241m.\u001b[39mfigure(figsize\u001b[38;5;241m=\u001b[39m(\u001b[38;5;241m12\u001b[39m,\u001b[38;5;241m6\u001b[39m))\n\u001b[1;32m---> 15\u001b[0m \u001b[43mplt\u001b[49m\u001b[38;5;241;43m.\u001b[39;49m\u001b[43msubplot\u001b[49m\u001b[43m(\u001b[49m\u001b[38;5;241;43m1\u001b[39;49m\u001b[43m,\u001b[49m\u001b[38;5;241;43m2\u001b[39;49m\u001b[43m,\u001b[49m\u001b[38;5;241;43m3\u001b[39;49m\u001b[43m)\u001b[49m\n\u001b[0;32m     16\u001b[0m plt\u001b[38;5;241m.\u001b[39mimshow(arr3, cmap\u001b[38;5;241m=\u001b[39m\u001b[38;5;124m\"\u001b[39m\u001b[38;5;124mviridis\u001b[39m\u001b[38;5;124m\"\u001b[39m,interpolation\u001b[38;5;241m=\u001b[39m\u001b[38;5;124m\"\u001b[39m\u001b[38;5;124mnearest\u001b[39m\u001b[38;5;124m\"\u001b[39m)\n\u001b[0;32m     17\u001b[0m plt\u001b[38;5;241m.\u001b[39mtitle(\u001b[38;5;124m\"\u001b[39m\u001b[38;5;124moriginal 5x5 matrix\u001b[39m\u001b[38;5;124m\"\u001b[39m)\n",
      "File \u001b[1;32mc:\\Users\\main\\anaconda3\\envs\\CVProject\\lib\\site-packages\\matplotlib\\pyplot.py:1323\u001b[0m, in \u001b[0;36msubplot\u001b[1;34m(*args, **kwargs)\u001b[0m\n\u001b[0;32m   1320\u001b[0m fig \u001b[38;5;241m=\u001b[39m gcf()\n\u001b[0;32m   1322\u001b[0m \u001b[38;5;66;03m# First, search for an existing subplot with a matching spec.\u001b[39;00m\n\u001b[1;32m-> 1323\u001b[0m key \u001b[38;5;241m=\u001b[39m \u001b[43mSubplotSpec\u001b[49m\u001b[38;5;241;43m.\u001b[39;49m\u001b[43m_from_subplot_args\u001b[49m\u001b[43m(\u001b[49m\u001b[43mfig\u001b[49m\u001b[43m,\u001b[49m\u001b[43m \u001b[49m\u001b[43margs\u001b[49m\u001b[43m)\u001b[49m\n\u001b[0;32m   1325\u001b[0m \u001b[38;5;28;01mfor\u001b[39;00m ax \u001b[38;5;129;01min\u001b[39;00m fig\u001b[38;5;241m.\u001b[39maxes:\n\u001b[0;32m   1326\u001b[0m     \u001b[38;5;66;03m# if we found an Axes at the position sort out if we can re-use it\u001b[39;00m\n\u001b[0;32m   1327\u001b[0m     \u001b[38;5;28;01mif\u001b[39;00m ax\u001b[38;5;241m.\u001b[39mget_subplotspec() \u001b[38;5;241m==\u001b[39m key:\n\u001b[0;32m   1328\u001b[0m         \u001b[38;5;66;03m# if the user passed no kwargs, re-use\u001b[39;00m\n",
      "File \u001b[1;32mc:\\Users\\main\\anaconda3\\envs\\CVProject\\lib\\site-packages\\matplotlib\\gridspec.py:600\u001b[0m, in \u001b[0;36mSubplotSpec._from_subplot_args\u001b[1;34m(figure, args)\u001b[0m\n\u001b[0;32m    598\u001b[0m \u001b[38;5;28;01melse\u001b[39;00m:\n\u001b[0;32m    599\u001b[0m     \u001b[38;5;28;01mif\u001b[39;00m \u001b[38;5;129;01mnot\u001b[39;00m \u001b[38;5;28misinstance\u001b[39m(num, Integral) \u001b[38;5;129;01mor\u001b[39;00m num \u001b[38;5;241m<\u001b[39m \u001b[38;5;241m1\u001b[39m \u001b[38;5;129;01mor\u001b[39;00m num \u001b[38;5;241m>\u001b[39m rows\u001b[38;5;241m*\u001b[39mcols:\n\u001b[1;32m--> 600\u001b[0m         \u001b[38;5;28;01mraise\u001b[39;00m \u001b[38;5;167;01mValueError\u001b[39;00m(\n\u001b[0;32m    601\u001b[0m             \u001b[38;5;124mf\u001b[39m\u001b[38;5;124m\"\u001b[39m\u001b[38;5;124mnum must be an integer with 1 <= num <= \u001b[39m\u001b[38;5;132;01m{\u001b[39;00mrows\u001b[38;5;241m*\u001b[39mcols\u001b[38;5;132;01m}\u001b[39;00m\u001b[38;5;124m, \u001b[39m\u001b[38;5;124m\"\u001b[39m\n\u001b[0;32m    602\u001b[0m             \u001b[38;5;124mf\u001b[39m\u001b[38;5;124m\"\u001b[39m\u001b[38;5;124mnot \u001b[39m\u001b[38;5;132;01m{\u001b[39;00mnum\u001b[38;5;132;01m!r}\u001b[39;00m\u001b[38;5;124m\"\u001b[39m\n\u001b[0;32m    603\u001b[0m         )\n\u001b[0;32m    604\u001b[0m     i \u001b[38;5;241m=\u001b[39m j \u001b[38;5;241m=\u001b[39m num\n\u001b[0;32m    605\u001b[0m \u001b[38;5;28;01mreturn\u001b[39;00m gs[i\u001b[38;5;241m-\u001b[39m\u001b[38;5;241m1\u001b[39m:j]\n",
      "\u001b[1;31mValueError\u001b[0m: num must be an integer with 1 <= num <= 2, not 3"
     ]
    },
    {
     "data": {
      "text/plain": [
       "<Figure size 1200x600 with 0 Axes>"
      ]
     },
     "metadata": {},
     "output_type": "display_data"
    }
   ],
   "source": [
    "# 5*5 크기의 배열을 생성하고 배열의 값은 0에서 50 사이의 랜덤 정수로 구성됨.\n",
    "# 생성한 배열에서 30보다 큰값만 필터링하여 새배열 만드세요\n",
    "# 필터링된 배열의 값 중 최대값, 최솟값,평균값 계산\n",
    "arr = np.random.randint(0,50, size=(5,5)) \n",
    "arr2 = arr[arr>30]\n",
    "arr2.mean()\n",
    "arr2.max()\n",
    "arr2.min()\n",
    "print(arr2.max(),arr2.min(),arr2.mean())\n",
    "arr3 =list([arr2.min(),arr2.mean(),arr2.max()])\n",
    "plt.plot(arr3,\"o\")\n",
    "plt.show()"
   ]
  },
  {
   "cell_type": "code",
   "execution_count": null,
   "id": "7de00522",
   "metadata": {},
   "outputs": [
    {
     "name": "stderr",
     "output_type": "stream",
     "text": [
      "C:\\Users\\main\\AppData\\Local\\Temp\\ipykernel_10176\\2970219740.py:36: UserWarning: Glyph 49707 (\\N{HANGUL SYLLABLE SUS}) missing from current font.\n",
      "  plt.tight_layout()\n",
      "C:\\Users\\main\\AppData\\Local\\Temp\\ipykernel_10176\\2970219740.py:36: UserWarning: Glyph 51088 (\\N{HANGUL SYLLABLE JA}) missing from current font.\n",
      "  plt.tight_layout()\n",
      "C:\\Users\\main\\AppData\\Local\\Temp\\ipykernel_10176\\2970219740.py:36: UserWarning: Glyph 51677 (\\N{HANGUL SYLLABLE JJAG}) missing from current font.\n",
      "  plt.tight_layout()\n",
      "C:\\Users\\main\\AppData\\Local\\Temp\\ipykernel_10176\\2970219740.py:36: UserWarning: Glyph 49688 (\\N{HANGUL SYLLABLE SU}) missing from current font.\n",
      "  plt.tight_layout()\n",
      "C:\\Users\\main\\AppData\\Local\\Temp\\ipykernel_10176\\2970219740.py:36: UserWarning: Glyph 44050 (\\N{HANGUL SYLLABLE GABS}) missing from current font.\n",
      "  plt.tight_layout()\n",
      "C:\\Users\\main\\AppData\\Local\\Temp\\ipykernel_10176\\2970219740.py:36: UserWarning: Glyph 47561 (\\N{HANGUL SYLLABLE MAG}) missing from current font.\n",
      "  plt.tight_layout()\n",
      "C:\\Users\\main\\AppData\\Local\\Temp\\ipykernel_10176\\2970219740.py:36: UserWarning: Glyph 45824 (\\N{HANGUL SYLLABLE DAE}) missing from current font.\n",
      "  plt.tight_layout()\n",
      "C:\\Users\\main\\AppData\\Local\\Temp\\ipykernel_10176\\2970219740.py:36: UserWarning: Glyph 45458 (\\N{HANGUL SYLLABLE NOP}) missing from current font.\n",
      "  plt.tight_layout()\n",
      "C:\\Users\\main\\AppData\\Local\\Temp\\ipykernel_10176\\2970219740.py:36: UserWarning: Glyph 51060 (\\N{HANGUL SYLLABLE I}) missing from current font.\n",
      "  plt.tight_layout()\n",
      "C:\\Users\\main\\AppData\\Local\\Temp\\ipykernel_10176\\2970219740.py:36: UserWarning: Glyph 53356 (\\N{HANGUL SYLLABLE KEU}) missing from current font.\n",
      "  plt.tight_layout()\n",
      "C:\\Users\\main\\AppData\\Local\\Temp\\ipykernel_10176\\2970219740.py:36: UserWarning: Glyph 44592 (\\N{HANGUL SYLLABLE GI}) missing from current font.\n",
      "  plt.tight_layout()\n",
      "C:\\Users\\main\\AppData\\Local\\Temp\\ipykernel_10176\\2970219740.py:36: UserWarning: Glyph 50640 (\\N{HANGUL SYLLABLE E}) missing from current font.\n",
      "  plt.tight_layout()\n",
      "C:\\Users\\main\\AppData\\Local\\Temp\\ipykernel_10176\\2970219740.py:36: UserWarning: Glyph 46384 (\\N{HANGUL SYLLABLE DDA}) missing from current font.\n",
      "  plt.tight_layout()\n",
      "C:\\Users\\main\\AppData\\Local\\Temp\\ipykernel_10176\\2970219740.py:36: UserWarning: Glyph 47480 (\\N{HANGUL SYLLABLE REUN}) missing from current font.\n",
      "  plt.tight_layout()\n",
      "C:\\Users\\main\\AppData\\Local\\Temp\\ipykernel_10176\\2970219740.py:36: UserWarning: Glyph 44536 (\\N{HANGUL SYLLABLE GEU}) missing from current font.\n",
      "  plt.tight_layout()\n",
      "C:\\Users\\main\\AppData\\Local\\Temp\\ipykernel_10176\\2970219740.py:36: UserWarning: Glyph 47000 (\\N{HANGUL SYLLABLE RAE}) missing from current font.\n",
      "  plt.tight_layout()\n",
      "C:\\Users\\main\\AppData\\Local\\Temp\\ipykernel_10176\\2970219740.py:36: UserWarning: Glyph 54532 (\\N{HANGUL SYLLABLE PEU}) missing from current font.\n",
      "  plt.tight_layout()\n",
      "c:\\Users\\main\\anaconda3\\envs\\CVProject\\lib\\site-packages\\IPython\\core\\pylabtools.py:152: UserWarning: Glyph 44050 (\\N{HANGUL SYLLABLE GABS}) missing from current font.\n",
      "  fig.canvas.print_figure(bytes_io, **kw)\n",
      "c:\\Users\\main\\anaconda3\\envs\\CVProject\\lib\\site-packages\\IPython\\core\\pylabtools.py:152: UserWarning: Glyph 47561 (\\N{HANGUL SYLLABLE MAG}) missing from current font.\n",
      "  fig.canvas.print_figure(bytes_io, **kw)\n",
      "c:\\Users\\main\\anaconda3\\envs\\CVProject\\lib\\site-packages\\IPython\\core\\pylabtools.py:152: UserWarning: Glyph 45824 (\\N{HANGUL SYLLABLE DAE}) missing from current font.\n",
      "  fig.canvas.print_figure(bytes_io, **kw)\n",
      "c:\\Users\\main\\anaconda3\\envs\\CVProject\\lib\\site-packages\\IPython\\core\\pylabtools.py:152: UserWarning: Glyph 45458 (\\N{HANGUL SYLLABLE NOP}) missing from current font.\n",
      "  fig.canvas.print_figure(bytes_io, **kw)\n",
      "c:\\Users\\main\\anaconda3\\envs\\CVProject\\lib\\site-packages\\IPython\\core\\pylabtools.py:152: UserWarning: Glyph 51060 (\\N{HANGUL SYLLABLE I}) missing from current font.\n",
      "  fig.canvas.print_figure(bytes_io, **kw)\n",
      "c:\\Users\\main\\anaconda3\\envs\\CVProject\\lib\\site-packages\\IPython\\core\\pylabtools.py:152: UserWarning: Glyph 53356 (\\N{HANGUL SYLLABLE KEU}) missing from current font.\n",
      "  fig.canvas.print_figure(bytes_io, **kw)\n",
      "c:\\Users\\main\\anaconda3\\envs\\CVProject\\lib\\site-packages\\IPython\\core\\pylabtools.py:152: UserWarning: Glyph 44592 (\\N{HANGUL SYLLABLE GI}) missing from current font.\n",
      "  fig.canvas.print_figure(bytes_io, **kw)\n",
      "c:\\Users\\main\\anaconda3\\envs\\CVProject\\lib\\site-packages\\IPython\\core\\pylabtools.py:152: UserWarning: Glyph 50640 (\\N{HANGUL SYLLABLE E}) missing from current font.\n",
      "  fig.canvas.print_figure(bytes_io, **kw)\n",
      "c:\\Users\\main\\anaconda3\\envs\\CVProject\\lib\\site-packages\\IPython\\core\\pylabtools.py:152: UserWarning: Glyph 46384 (\\N{HANGUL SYLLABLE DDA}) missing from current font.\n",
      "  fig.canvas.print_figure(bytes_io, **kw)\n",
      "c:\\Users\\main\\anaconda3\\envs\\CVProject\\lib\\site-packages\\IPython\\core\\pylabtools.py:152: UserWarning: Glyph 47480 (\\N{HANGUL SYLLABLE REUN}) missing from current font.\n",
      "  fig.canvas.print_figure(bytes_io, **kw)\n",
      "c:\\Users\\main\\anaconda3\\envs\\CVProject\\lib\\site-packages\\IPython\\core\\pylabtools.py:152: UserWarning: Glyph 44536 (\\N{HANGUL SYLLABLE GEU}) missing from current font.\n",
      "  fig.canvas.print_figure(bytes_io, **kw)\n",
      "c:\\Users\\main\\anaconda3\\envs\\CVProject\\lib\\site-packages\\IPython\\core\\pylabtools.py:152: UserWarning: Glyph 47000 (\\N{HANGUL SYLLABLE RAE}) missing from current font.\n",
      "  fig.canvas.print_figure(bytes_io, **kw)\n",
      "c:\\Users\\main\\anaconda3\\envs\\CVProject\\lib\\site-packages\\IPython\\core\\pylabtools.py:152: UserWarning: Glyph 54532 (\\N{HANGUL SYLLABLE PEU}) missing from current font.\n",
      "  fig.canvas.print_figure(bytes_io, **kw)\n"
     ]
    },
    {
     "data": {
      "image/png": "[encoded data removed]",
      "text/plain": [
       "<Figure size 1200x500 with 1 Axes>"
      ]
     },
     "metadata": {},
     "output_type": "display_data"
    }
   ],
   "source": [
    "# 숫자 1부터 50까지의 배열을 생성\n",
    "# 배열에서 짝수만 추출해 새로운 배열 만들기\n",
    "# 원본 배열과 추출한 배열을 막대 그래프로 시각화\n",
    "arr = np.arange(51)\n",
    "arr2 = arr[arr%2==0]\n",
    "# 시각화\n",
    "import numpy as np\n",
    "import matplotlib.pyplot as plt\n",
    "\n",
    "# 1~50 배열 생성\n",
    "arr = np.arange(1, 51)\n",
    "\n",
    "# 짝수만 추출\n",
    "arr_even = arr[arr % 2 == 0]\n",
    "\n",
    "# 짝수 그대로 높이로 사용\n",
    "heights = arr_even  # 막대 높이를 숫자 자체로!\n",
    "\n",
    "plt.figure(figsize=(12, 5))\n",
    "\n",
    "# 막대 그리기 (짝수 숫자가 x축, 높이도 그 숫자)\n",
    "bars = plt.bar(arr_even, heights, color='royalblue', alpha=0.8, label='짝수')\n",
    "\n",
    "# 막대 위에 숫자 표시\n",
    "for bar in bars:\n",
    "    height = bar.get_height()\n",
    "    x = bar.get_x() + bar.get_width() / 2\n",
    "    plt.text(x, height + 1, str(int(height)), ha='center', va='bottom', fontsize=9)\n",
    "\n",
    "# 제목 및 꾸미기\n",
    "plt.title(\"짝수 값 크기에 따른 막대 그래프\")\n",
    "plt.xlabel(\"숫자 (짝수)\")\n",
    "plt.ylabel(\"값 (막대 높이)\")\n",
    "plt.grid(axis='y', linestyle='--', alpha=0.5)\n",
    "plt.legend()\n",
    "plt.tight_layout()\n",
    "plt.show()\n"
   ]
  }
 ],
 "metadata": {
  "kernelspec": {
   "display_name": "CVProject",
   "language": "python",
   "name": "python3"
  },
  "language_info": {
   "codemirror_mode": {
    "name": "ipython",
    "version": 3
   },
   "file_extension": ".py",
   "mimetype": "text/x-python",
   "name": "python",
   "nbconvert_exporter": "python",
   "pygments_lexer": "ipython3",
   "version": "3.8.20"
  }
 },
 "nbformat": 4,
 "nbformat_minor": 5
}
